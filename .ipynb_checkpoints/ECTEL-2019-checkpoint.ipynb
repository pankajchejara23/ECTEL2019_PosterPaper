{
 "cells": [
  {
   "cell_type": "markdown",
   "metadata": {},
   "source": [
    "# Multimodal Learning Analytics to understand group level participation behavior in collocated collaboration"
   ]
  },
  {
   "cell_type": "markdown",
   "metadata": {},
   "source": [
    "This notebook explore the use of dimension reduction methods in mapping the collected multimodal data (from collocated collaboration settings) into lower number of attribtues. This study has considered PCA, Isomap, t-SNE, FA, MFA, MCA methods. We selected MFA due to its high correlation. We also checked manually the resultant dimensions with original attributes which has suggested the use of first dimension as Engagement and second dimension as Physical v-s Technical behavior."
   ]
  },
  {
   "cell_type": "code",
   "execution_count": 1,
   "metadata": {},
   "outputs": [],
   "source": [
    "import pandas as pd\n",
    "import numpy as np\n",
    "import prince\n",
    "\n",
    "import matplotlib.pyplot as plt\n",
    "from mpl_toolkits.mplot3d import Axes3D\n",
    "\n",
    "import seaborn as sns\n",
    "\n",
    "from sklearn.decomposition import PCA\n",
    "from sklearn.manifold import Isomap\n",
    "from sklearn.manifold import TSNE\n",
    "\n",
    "from sklearn.preprocessing import StandardScaler"
   ]
  },
  {
   "cell_type": "code",
   "execution_count": 2,
   "metadata": {},
   "outputs": [
    {
     "data": {
      "text/html": [
       "<div>\n",
       "<style scoped>\n",
       "    .dataframe tbody tr th:only-of-type {\n",
       "        vertical-align: middle;\n",
       "    }\n",
       "\n",
       "    .dataframe tbody tr th {\n",
       "        vertical-align: top;\n",
       "    }\n",
       "\n",
       "    .dataframe thead th {\n",
       "        text-align: right;\n",
       "    }\n",
       "</style>\n",
       "<table border=\"1\" class=\"dataframe\">\n",
       "  <thead>\n",
       "    <tr style=\"text-align: right;\">\n",
       "      <th></th>\n",
       "      <th>Unnamed: 0</th>\n",
       "      <th>timestamp</th>\n",
       "      <th>group</th>\n",
       "      <th>disengaged</th>\n",
       "      <th>looking</th>\n",
       "      <th>talking</th>\n",
       "      <th>intTech</th>\n",
       "      <th>intRes</th>\n",
       "      <th>intExt</th>\n",
       "      <th>Accessed</th>\n",
       "      <th>Create</th>\n",
       "      <th>Open</th>\n",
       "      <th>Update</th>\n",
       "    </tr>\n",
       "  </thead>\n",
       "  <tbody>\n",
       "    <tr>\n",
       "      <th>0</th>\n",
       "      <td>1</td>\n",
       "      <td>2017-11-08 11:07:48</td>\n",
       "      <td>1ABCD</td>\n",
       "      <td>0</td>\n",
       "      <td>0.0</td>\n",
       "      <td>0.0</td>\n",
       "      <td>1.0</td>\n",
       "      <td>0.0</td>\n",
       "      <td>0.5</td>\n",
       "      <td>0</td>\n",
       "      <td>0</td>\n",
       "      <td>0</td>\n",
       "      <td>0</td>\n",
       "    </tr>\n",
       "  </tbody>\n",
       "</table>\n",
       "</div>"
      ],
      "text/plain": [
       "   Unnamed: 0            timestamp  group  disengaged  looking  talking  \\\n",
       "0           1  2017-11-08 11:07:48  1ABCD           0      0.0      0.0   \n",
       "\n",
       "   intTech  intRes  intExt  Accessed  Create  Open  Update  \n",
       "0      1.0     0.0     0.5         0       0     0       0  "
      ]
     },
     "execution_count": 2,
     "metadata": {},
     "output_type": "execute_result"
    }
   ],
   "source": [
    "# open dataset file\n",
    "data_8nov = pd.read_csv('ProcessedData_ProjectDay_20171108.csv')\n",
    "\n",
    "# Data sample\n",
    "data_8nov.head(1)"
   ]
  },
  {
   "cell_type": "code",
   "execution_count": 3,
   "metadata": {},
   "outputs": [
    {
     "data": {
      "text/html": [
       "<div>\n",
       "<style scoped>\n",
       "    .dataframe tbody tr th:only-of-type {\n",
       "        vertical-align: middle;\n",
       "    }\n",
       "\n",
       "    .dataframe tbody tr th {\n",
       "        vertical-align: top;\n",
       "    }\n",
       "\n",
       "    .dataframe thead th {\n",
       "        text-align: right;\n",
       "    }\n",
       "</style>\n",
       "<table border=\"1\" class=\"dataframe\">\n",
       "  <thead>\n",
       "    <tr style=\"text-align: right;\">\n",
       "      <th></th>\n",
       "      <th>disengaged</th>\n",
       "      <th>looking</th>\n",
       "      <th>talking</th>\n",
       "      <th>intTech</th>\n",
       "      <th>intRes</th>\n",
       "      <th>intExt</th>\n",
       "      <th>Accessed</th>\n",
       "      <th>Create</th>\n",
       "      <th>Open</th>\n",
       "      <th>Update</th>\n",
       "    </tr>\n",
       "  </thead>\n",
       "  <tbody>\n",
       "    <tr>\n",
       "      <th>0</th>\n",
       "      <td>0</td>\n",
       "      <td>0.0</td>\n",
       "      <td>0.0</td>\n",
       "      <td>1.0</td>\n",
       "      <td>0.0</td>\n",
       "      <td>0.5</td>\n",
       "      <td>0</td>\n",
       "      <td>0</td>\n",
       "      <td>0</td>\n",
       "      <td>0</td>\n",
       "    </tr>\n",
       "  </tbody>\n",
       "</table>\n",
       "</div>"
      ],
      "text/plain": [
       "   disengaged  looking  talking  intTech  intRes  intExt  Accessed  Create  \\\n",
       "0           0      0.0      0.0      1.0     0.0     0.5         0       0   \n",
       "\n",
       "   Open  Update  \n",
       "0     0       0  "
      ]
     },
     "execution_count": 3,
     "metadata": {},
     "output_type": "execute_result"
    }
   ],
   "source": [
    "# Remove the first three columns from the data (Unnamed, timestamp, group)\n",
    "data_8nov_copy = data_8nov.drop(data_8nov.columns[[0,1,2]],axis=1)\n",
    "\n",
    "# Data sample\n",
    "data_8nov_copy.head(1)"
   ]
  },
  {
   "cell_type": "code",
   "execution_count": 4,
   "metadata": {},
   "outputs": [
    {
     "name": "stderr",
     "output_type": "stream",
     "text": [
      "/anaconda3/lib/python3.6/site-packages/sklearn/preprocessing/data.py:645: DataConversionWarning: Data with input dtype int64, float64 were all converted to float64 by StandardScaler.\n",
      "  return self.partial_fit(X, y)\n",
      "/anaconda3/lib/python3.6/site-packages/sklearn/base.py:464: DataConversionWarning: Data with input dtype int64, float64 were all converted to float64 by StandardScaler.\n",
      "  return self.fit(X, **fit_params).transform(X)\n"
     ]
    }
   ],
   "source": [
    "# Standardize the data for PCA\n",
    "scaler = StandardScaler()\n",
    "data_8nov_std = pd.DataFrame(scaler.fit_transform(data_8nov_copy))\n"
   ]
  },
  {
   "cell_type": "code",
   "execution_count": 5,
   "metadata": {},
   "outputs": [],
   "source": [
    "# PCA \n",
    "pca = PCA(n_components=2)\n",
    "pca_result = pca.fit_transform(data_8nov_std)\n",
    "\n",
    "# Isomap\n",
    "iso = Isomap(n_components=2)\n",
    "iso_results = iso.fit_transform(data_8nov_std)\n",
    "\n",
    "#t-SNE\n",
    "tsne = TSNE(n_components=2)\n",
    "tsne_results = tsne.fit_transform(data_8nov_std)"
   ]
  },
  {
   "cell_type": "markdown",
   "metadata": {},
   "source": [
    "#####  MFA method\n",
    "We have used prince(https://github.com/MaxHalford/prince) library for MFA method. We have computed the resultant dimensions in separate script (As anaconda has no support for prince library). "
   ]
  },
  {
   "cell_type": "code",
   "execution_count": 6,
   "metadata": {},
   "outputs": [],
   "source": [
    "# Seperate script used to apply MFA method and results were saved in mfa_result.csv file\n",
    "mfa_result = pd.read_csv('mfa_result.csv')"
   ]
  },
  {
   "cell_type": "markdown",
   "metadata": {},
   "source": [
    "#### Correlation "
   ]
  },
  {
   "cell_type": "code",
   "execution_count": null,
   "metadata": {},
   "outputs": [],
   "source": [
    "We have checked the correlation of resultant attributes and "
   ]
  }
 ],
 "metadata": {
  "kernelspec": {
   "display_name": "Python 3",
   "language": "python",
   "name": "python3"
  },
  "language_info": {
   "codemirror_mode": {
    "name": "ipython",
    "version": 3
   },
   "file_extension": ".py",
   "mimetype": "text/x-python",
   "name": "python",
   "nbconvert_exporter": "python",
   "pygments_lexer": "ipython3",
   "version": "3.6.8"
  }
 },
 "nbformat": 4,
 "nbformat_minor": 2
}
